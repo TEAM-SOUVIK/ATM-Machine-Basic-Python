{
  "nbformat": 4,
  "nbformat_minor": 0,
  "metadata": {
    "colab": {
      "provenance": []
    },
    "kernelspec": {
      "name": "python3",
      "display_name": "Python 3"
    },
    "language_info": {
      "name": "python"
    }
  },
  "cells": [
    {
      "cell_type": "code",
      "execution_count": null,
      "metadata": {
        "id": "CiSAP-v1EpnM"
      },
      "outputs": [],
      "source": [
        "#FULL BANKLING SYSTEM PROGRAMME:"
      ]
    },
    {
      "cell_type": "code",
      "source": [
        "\n",
        "class Account:\n",
        "    def __init__(self):\n",
        "        self.balance = 0\n",
        "        print(\"New Bank Account Has been Created.\")\n",
        "\n",
        "    def deposit(self):\n",
        "        amount = float(input(\"\\nEnter amount to deposit: \"))\n",
        "        self.balance+=amount\n",
        "        print(\"New balance: %f\" %self.balance)\n",
        "\n",
        "    def withdraw(self):\n",
        "        amount = float(input(\"\\nEnter amount to Withdraw: \"))\n",
        "        if(amount > self.balance):\n",
        "            print(\"insufficient Balance\")\n",
        "        else:\n",
        "            self.balance-=amount\n",
        "            print(\"\\nUpdated ablance will be: %f\" %self.balance)\n",
        "\n",
        "    def enquiry(self):\n",
        "        print(\"Your balance is: \", self.balance)\n",
        "\n",
        "\n"
      ],
      "metadata": {
        "id": "MjkkmKJkIEvK"
      },
      "execution_count": null,
      "outputs": []
    },
    {
      "cell_type": "code",
      "source": [
        "def onAtm():\n",
        "    print(\"\\n_________Welcome to westbengal bank of India__________\")\n",
        "    print(\"\\n 1. Create account          2. Money Deposit \\n3.Money Withdrawal           4. Bank mini-Statemnt  \")\n",
        "\n",
        "    flag = int(input(\"\\nEnter a Your Choise:\"))\n",
        "\n",
        "\n",
        "    if(flag == 2):\n",
        "        account1 = Account()\n",
        "        account1.deposit()\n",
        "    elif(flag == 3):\n",
        "        account1 = Account()\n",
        "        account1.withdraw()\n",
        "    elif(flag == 4):\n",
        "        account1.enquiry()\n",
        "    elif(flag == 1):\n",
        "        account1 = Account()\n"
      ],
      "metadata": {
        "id": "--XzluALQ7F8"
      },
      "execution_count": null,
      "outputs": []
    },
    {
      "cell_type": "code",
      "source": [
        "while(1):\n",
        "    onAtm()"
      ],
      "metadata": {
        "colab": {
          "base_uri": "https://localhost:8080/"
        },
        "id": "rU844yFlLu_f",
        "outputId": "b9997449-1f64-4372-c20a-a3331d8911f6"
      },
      "execution_count": null,
      "outputs": [
        {
          "metadata": {
            "tags": null
          },
          "name": "stdout",
          "output_type": "stream",
          "text": [
            "\n",
            "_________Welcome to westbengal bank of India__________\n",
            "\n",
            " 1. Create account          2. Money Deposit \n",
            "3.Money Withdrawal           4. Bank mini-Statemnt  \n",
            "New Bank Account Has been Created.\n",
            "New balance: 5600.000000\n",
            "\n",
            "_________Welcome to westbengal bank of India__________\n",
            "\n",
            " 1. Create account          2. Money Deposit \n",
            "3.Money Withdrawal           4. Bank mini-Statemnt  \n",
            "New Bank Account Has been Created.\n",
            "insufficient Balance\n",
            "\n",
            "_________Welcome to westbengal bank of India__________\n",
            "\n",
            " 1. Create account          2. Money Deposit \n",
            "3.Money Withdrawal           4. Bank mini-Statemnt  \n"
          ]
        }
      ]
    },
    {
      "cell_type": "code",
      "source": [],
      "metadata": {
        "id": "2VPMEKZ9Tb_I"
      },
      "execution_count": null,
      "outputs": []
    }
  ]
}